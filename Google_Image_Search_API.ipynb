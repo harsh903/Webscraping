{
  "nbformat": 4,
  "nbformat_minor": 0,
  "metadata": {
    "colab": {
      "name": "Google Image Search API",
      "provenance": [],
      "authorship_tag": "ABX9TyNbzycrbkn+4L0jJ08v7p9G",
      "include_colab_link": true
    },
    "kernelspec": {
      "name": "python3",
      "display_name": "Python 3"
    },
    "language_info": {
      "name": "python"
    }
  },
  "cells": [
    {
      "cell_type": "markdown",
      "metadata": {
        "id": "view-in-github",
        "colab_type": "text"
      },
      "source": [
        "<a href=\"https://colab.research.google.com/github/harsh903/Webscraping/blob/main/Google_Image_Search_API.ipynb\" target=\"_parent\"><img src=\"https://colab.research.google.com/assets/colab-badge.svg\" alt=\"Open In Colab\"/></a>"
      ]
    },
    {
      "cell_type": "code",
      "metadata": {
        "id": "QwcGK0t4xt5R"
      },
      "source": [
        "from google_images_search import GoogleImagesSearch\n",
        "\n",
        "# you can provide API key and CX using arguments,\n",
        "# or you can set environment variables: GCS_DEVELOPER_KEY, GCS_CX\n",
        "gis = GoogleImagesSearch('your_dev_api_key', 'your_project_cx')\n",
        "\n",
        "# define search params:\n",
        "_search_params = {\n",
        "    'q': '...',\n",
        "    'num': 10,\n",
        "    'safe': 'high|medium|off',\n",
        "    'fileType': 'jpg|gif|png',\n",
        "    'imgType': 'clipart|face|lineart|news|photo',\n",
        "    'imgSize': 'huge|icon|large|medium|small|xlarge|xxlarge',\n",
        "    'imgDominantColor': 'black|blue|brown|gray|green|orange|pink|purple|red|teal|white|yellow',\n",
        "    'imgColorType': 'color|gray|mono|trans',\n",
        "    'rights': 'cc_publicdomain|cc_attribute|cc_sharealike|cc_noncommercial|cc_nonderived'\n",
        "}"
      ],
      "execution_count": 2,
      "outputs": []
    },
    {
      "cell_type": "code",
      "metadata": {
        "colab": {
          "base_uri": "https://localhost:8080/"
        },
        "id": "-iU2HTa9yuLY",
        "outputId": "318720b5-fa93-42cb-a847-66dac4dcaf90"
      },
      "source": [
        "! pip install Google-Images-Search"
      ],
      "execution_count": 1,
      "outputs": [
        {
          "output_type": "stream",
          "text": [
            "Requirement already satisfied: Google-Images-Search in /usr/local/lib/python3.7/dist-packages (1.3.9)\n",
            "Requirement already satisfied: click~=7.0 in /usr/local/lib/python3.7/dist-packages (from Google-Images-Search) (7.1.2)\n",
            "Requirement already satisfied: python-resize-image~=1.1 in /usr/local/lib/python3.7/dist-packages (from Google-Images-Search) (1.1.19)\n",
            "Requirement already satisfied: termcolor~=1.1 in /usr/local/lib/python3.7/dist-packages (from Google-Images-Search) (1.1.0)\n",
            "Requirement already satisfied: colorama~=0.4 in /usr/local/lib/python3.7/dist-packages (from Google-Images-Search) (0.4.4)\n",
            "Requirement already satisfied: six~=1.12 in /usr/local/lib/python3.7/dist-packages (from Google-Images-Search) (1.15.0)\n",
            "Requirement already satisfied: Pillow>=8.1.1 in /usr/local/lib/python3.7/dist-packages (from Google-Images-Search) (8.3.1)\n",
            "Requirement already satisfied: pyfiglet~=0.8 in /usr/local/lib/python3.7/dist-packages (from Google-Images-Search) (0.8.post1)\n",
            "Requirement already satisfied: requests~=2.21 in /usr/local/lib/python3.7/dist-packages (from Google-Images-Search) (2.23.0)\n",
            "Requirement already satisfied: google-api-python-client~=1.7 in /usr/local/lib/python3.7/dist-packages (from Google-Images-Search) (1.12.8)\n",
            "Requirement already satisfied: google-api-core<2dev,>=1.21.0 in /usr/local/lib/python3.7/dist-packages (from google-api-python-client~=1.7->Google-Images-Search) (1.26.3)\n",
            "Requirement already satisfied: uritemplate<4dev,>=3.0.0 in /usr/local/lib/python3.7/dist-packages (from google-api-python-client~=1.7->Google-Images-Search) (3.0.1)\n",
            "Requirement already satisfied: google-auth>=1.16.0 in /usr/local/lib/python3.7/dist-packages (from google-api-python-client~=1.7->Google-Images-Search) (1.34.0)\n",
            "Requirement already satisfied: httplib2<1dev,>=0.15.0 in /usr/local/lib/python3.7/dist-packages (from google-api-python-client~=1.7->Google-Images-Search) (0.17.4)\n",
            "Requirement already satisfied: google-auth-httplib2>=0.0.3 in /usr/local/lib/python3.7/dist-packages (from google-api-python-client~=1.7->Google-Images-Search) (0.0.4)\n",
            "Requirement already satisfied: setuptools>=40.3.0 in /usr/local/lib/python3.7/dist-packages (from google-api-core<2dev,>=1.21.0->google-api-python-client~=1.7->Google-Images-Search) (57.4.0)\n",
            "Requirement already satisfied: packaging>=14.3 in /usr/local/lib/python3.7/dist-packages (from google-api-core<2dev,>=1.21.0->google-api-python-client~=1.7->Google-Images-Search) (21.0)\n",
            "Requirement already satisfied: googleapis-common-protos<2.0dev,>=1.6.0 in /usr/local/lib/python3.7/dist-packages (from google-api-core<2dev,>=1.21.0->google-api-python-client~=1.7->Google-Images-Search) (1.53.0)\n",
            "Requirement already satisfied: protobuf>=3.12.0 in /usr/local/lib/python3.7/dist-packages (from google-api-core<2dev,>=1.21.0->google-api-python-client~=1.7->Google-Images-Search) (3.17.3)\n",
            "Requirement already satisfied: pytz in /usr/local/lib/python3.7/dist-packages (from google-api-core<2dev,>=1.21.0->google-api-python-client~=1.7->Google-Images-Search) (2018.9)\n",
            "Requirement already satisfied: rsa<5,>=3.1.4 in /usr/local/lib/python3.7/dist-packages (from google-auth>=1.16.0->google-api-python-client~=1.7->Google-Images-Search) (4.7.2)\n",
            "Requirement already satisfied: pyasn1-modules>=0.2.1 in /usr/local/lib/python3.7/dist-packages (from google-auth>=1.16.0->google-api-python-client~=1.7->Google-Images-Search) (0.2.8)\n",
            "Requirement already satisfied: cachetools<5.0,>=2.0.0 in /usr/local/lib/python3.7/dist-packages (from google-auth>=1.16.0->google-api-python-client~=1.7->Google-Images-Search) (4.2.2)\n",
            "Requirement already satisfied: pyparsing>=2.0.2 in /usr/local/lib/python3.7/dist-packages (from packaging>=14.3->google-api-core<2dev,>=1.21.0->google-api-python-client~=1.7->Google-Images-Search) (2.4.7)\n",
            "Requirement already satisfied: pyasn1<0.5.0,>=0.4.6 in /usr/local/lib/python3.7/dist-packages (from pyasn1-modules>=0.2.1->google-auth>=1.16.0->google-api-python-client~=1.7->Google-Images-Search) (0.4.8)\n",
            "Requirement already satisfied: urllib3!=1.25.0,!=1.25.1,<1.26,>=1.21.1 in /usr/local/lib/python3.7/dist-packages (from requests~=2.21->Google-Images-Search) (1.24.3)\n",
            "Requirement already satisfied: certifi>=2017.4.17 in /usr/local/lib/python3.7/dist-packages (from requests~=2.21->Google-Images-Search) (2021.5.30)\n",
            "Requirement already satisfied: idna<3,>=2.5 in /usr/local/lib/python3.7/dist-packages (from requests~=2.21->Google-Images-Search) (2.10)\n",
            "Requirement already satisfied: chardet<4,>=3.0.2 in /usr/local/lib/python3.7/dist-packages (from requests~=2.21->Google-Images-Search) (3.0.4)\n"
          ],
          "name": "stdout"
        }
      ]
    },
    {
      "cell_type": "code",
      "metadata": {
        "id": "9bjaZJpMyhFr"
      },
      "source": [
        "for image in gis.results():\n",
        "    image.download('/path/')\n",
        "    image.resize(500, 500)"
      ],
      "execution_count": 3,
      "outputs": []
    },
    {
      "cell_type": "code",
      "metadata": {
        "id": "4Fco9l4YzgwR"
      },
      "source": [
        ""
      ],
      "execution_count": null,
      "outputs": []
    }
  ]
}