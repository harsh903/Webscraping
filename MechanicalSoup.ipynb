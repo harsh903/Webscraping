{
  "nbformat": 4,
  "nbformat_minor": 0,
  "metadata": {
    "colab": {
      "name": "MechanicalSoup",
      "provenance": [],
      "collapsed_sections": [],
      "authorship_tag": "ABX9TyM6XQwPiCD57Y/uQ0RjURyF",
      "include_colab_link": true
    },
    "kernelspec": {
      "name": "python3",
      "display_name": "Python 3"
    },
    "language_info": {
      "name": "python"
    }
  },
  "cells": [
    {
      "cell_type": "markdown",
      "metadata": {
        "id": "view-in-github",
        "colab_type": "text"
      },
      "source": [
        "<a href=\"https://colab.research.google.com/github/harsh903/Webscraping/blob/main/MechanicalSoup.ipynb\" target=\"_parent\"><img src=\"https://colab.research.google.com/assets/colab-badge.svg\" alt=\"Open In Colab\"/></a>"
      ]
    },
    {
      "cell_type": "code",
      "metadata": {
        "colab": {
          "base_uri": "https://localhost:8080/"
        },
        "id": "CL-tFnOvJahB",
        "outputId": "55dae251-5ca6-4b07-d151-bb3bae8091c2"
      },
      "source": [
        "pip install MechanicalSoup"
      ],
      "execution_count": null,
      "outputs": [
        {
          "output_type": "stream",
          "text": [
            "Collecting MechanicalSoup\n",
            "  Downloading MechanicalSoup-1.1.0-py3-none-any.whl (19 kB)\n",
            "Requirement already satisfied: lxml in /usr/local/lib/python3.7/dist-packages (from MechanicalSoup) (4.2.6)\n",
            "Requirement already satisfied: requests>=2.22.0 in /usr/local/lib/python3.7/dist-packages (from MechanicalSoup) (2.23.0)\n",
            "Collecting beautifulsoup4>=4.7\n",
            "  Downloading beautifulsoup4-4.9.3-py3-none-any.whl (115 kB)\n",
            "\u001b[K     |████████████████████████████████| 115 kB 7.7 MB/s \n",
            "\u001b[?25hCollecting soupsieve>1.2\n",
            "  Downloading soupsieve-2.2.1-py3-none-any.whl (33 kB)\n",
            "Requirement already satisfied: certifi>=2017.4.17 in /usr/local/lib/python3.7/dist-packages (from requests>=2.22.0->MechanicalSoup) (2021.5.30)\n",
            "Requirement already satisfied: urllib3!=1.25.0,!=1.25.1,<1.26,>=1.21.1 in /usr/local/lib/python3.7/dist-packages (from requests>=2.22.0->MechanicalSoup) (1.24.3)\n",
            "Requirement already satisfied: chardet<4,>=3.0.2 in /usr/local/lib/python3.7/dist-packages (from requests>=2.22.0->MechanicalSoup) (3.0.4)\n",
            "Requirement already satisfied: idna<3,>=2.5 in /usr/local/lib/python3.7/dist-packages (from requests>=2.22.0->MechanicalSoup) (2.10)\n",
            "Installing collected packages: soupsieve, beautifulsoup4, MechanicalSoup\n",
            "  Attempting uninstall: beautifulsoup4\n",
            "    Found existing installation: beautifulsoup4 4.6.3\n",
            "    Uninstalling beautifulsoup4-4.6.3:\n",
            "      Successfully uninstalled beautifulsoup4-4.6.3\n",
            "Successfully installed MechanicalSoup-1.1.0 beautifulsoup4-4.9.3 soupsieve-2.2.1\n"
          ],
          "name": "stdout"
        }
      ]
    },
    {
      "cell_type": "code",
      "metadata": {
        "colab": {
          "base_uri": "https://localhost:8080/"
        },
        "id": "t7t7LomtJdKW",
        "outputId": "788fb3d4-296f-468b-e659-547c2c15e739"
      },
      "source": [
        "import mechanicalsoup\n",
        "browser = mechanicalsoup.StatefulBrowser()\n",
        "url = \"https://www.google.com/imghp?hl=EN\"\n",
        "browser.open(url)\n",
        "print(browser.get_url())"
      ],
      "execution_count": null,
      "outputs": [
        {
          "output_type": "stream",
          "text": [
            "https://www.google.com/imghp?hl=EN\n"
          ],
          "name": "stdout"
        }
      ]
    },
    {
      "cell_type": "code",
      "metadata": {
        "colab": {
          "base_uri": "https://localhost:8080/"
        },
        "id": "Pxp8MSQPKNzf",
        "outputId": "22a3f1f7-ed9f-48b3-db5c-7c6c12220689"
      },
      "source": [
        "#get html\n",
        "browser.get_current_page()"
      ],
      "execution_count": null,
      "outputs": [
        {
          "output_type": "execute_result",
          "data": {
            "text/plain": [
              "<!DOCTYPE html>\n",
              "<html itemscope=\"\" itemtype=\"http://schema.org/WebPage\" lang=\"en\"><head><meta content=\"Google Images. The most comprehensive image search on the web.\" name=\"description\"/><meta content=\"text/html; charset=utf-8\" http-equiv=\"Content-Type\"/><meta content=\"/images/branding/googleg/1x/googleg_standard_color_128dp.png\" itemprop=\"image\"/><title>Google Images</title><script nonce=\"4sddFodzgDp3OsgBqH8SxQ==\">(function(){window.google={kEI:'DXkSYdyEFMas0PEPoKubmAw',kEXPI:'0,772215,1,530320,56873,954,5105,206,4804,2316,383,246,5,1354,4936,315,1122515,1197789,493,328985,51223,16115,17444,11240,17572,4858,1362,9290,3021,2823,14765,4020,978,13228,3847,10622,1142,13385,4517,2778,919,5081,1595,1277,2212,530,149,1103,840,1983,214,4100,3514,606,2023,1777,521,14669,2273,1,955,1988,855,7,5599,6755,5096,7876,5037,1483,1924,908,2,941,2614,3424,359,8927,432,3,346,1244,1,5444,149,11323,991,1661,4,1528,2304,1236,5226,577,74,1983,2627,2012,4069,7434,3824,3050,2658,872,3371,3114,30,13628,2305,638,37,1457,5586,9765,770,665,5818,2311,228,4094,17,2239,882,6,908,3,3541,2,5348,9361,1,1813,283,912,5992,9979,4699,769,18,1,1262,1344,371,2,3057,6155,627,4,50,4,5378,4,674,442,342,310,4,434,2377,123,285,1272,744,1274,1536,3042,2050,1820,4833,1030,132,598,1160,1266,98,4664,380,291,1533,584,261,2722,3708,2,835,3,125,3922,2887,86,704,2384,585,464,164,2427,1,8,2244,120,395,3024,1171,32,306,426,554,57,516,288,359,18,140,190,896,85,1465,1054,332,1575,2736,377,184,459,123,1745,2556,431,53,757,859,346,1,227,2,4,155,757,8,70,317,261,59,23,77,543,471,3,183,1,3,798,760,7,835,294,85,299,715,4,7,76,424,353,372,30,848,14,2,693,232,1110,1,406,2,5597894,102,124,220,146,15,1802729,4193979,162,2800534,882,444,1,2,80,1,1796,1,9,2553,1,748,141,795,563,1,4265,1,1,2,1331,4142,2609,155,17,13,72,139,4,2,20,2,169,13,19,46,5,39,96,548,29,2,2,1,2,1,2,2,7,4,1,2,2,2,2,2,2,353,513,186,1,1,158,3,2,2,2,2,2,4,2,3,3,235,27,7,10,99,12,51,6,7,9,23654664,299864,2738464,1302888,338,3,1454,960,541,365,7,172,1963,711,477,620,115,770153',kBL:'rnH1'};google.sn='imghp';google.kHL='en';})();(function(){\n",
              "var f=this||self;var h,k=[];function l(a){for(var b;a&&(!a.getAttribute||!(b=a.getAttribute(\"eid\")));)a=a.parentNode;return b||h}function m(a){for(var b=null;a&&(!a.getAttribute||!(b=a.getAttribute(\"leid\")));)a=a.parentNode;return b}\n",
              "function n(a,b,c,d,g){var e=\"\";c||-1!==b.search(\"&ei=\")||(e=\"&ei=\"+l(d),-1===b.search(\"&lei=\")&&(d=m(d))&&(e+=\"&lei=\"+d));d=\"\";!c&&f._cshid&&-1===b.search(\"&cshid=\")&&\"slh\"!==a&&(d=\"&cshid=\"+f._cshid);c=c||\"/\"+(g||\"gen_204\")+\"?atyp=i&ct=\"+a+\"&cad=\"+b+e+\"&zx=\"+Date.now()+d;/^http:/i.test(c)&&\"https:\"===window.location.protocol&&(google.ml&&google.ml(Error(\"a\"),!1,{src:c,glmm:1}),c=\"\");return c};h=google.kEI;google.getEI=l;google.getLEI=m;google.ml=function(){return null};google.log=function(a,b,c,d,g){if(c=n(a,b,c,d,g)){a=new Image;var e=k.length;k[e]=a;a.onerror=a.onload=a.onabort=function(){delete k[e]};a.src=c}};google.logUrl=n;}).call(this);(function(){\n",
              "google.y={};google.sy=[];google.x=function(a,b){if(a)var c=a.id;else{do c=Math.random();while(google.y[c])}google.y[c]=[a,b];return!1};google.sx=function(a){google.sy.push(a)};google.lm=[];google.plm=function(a){google.lm.push.apply(google.lm,a)};google.lq=[];google.load=function(a,b,c){google.lq.push([[a],b,c])};google.loadAll=function(a,b){google.lq.push([a,b])};google.bx=!1;google.lx=function(){};}).call(this);google.f={};(function(){\n",
              "document.documentElement.addEventListener(\"submit\",function(b){var a;if(a=b.target){var c=a.getAttribute(\"data-submitfalse\");a=\"1\"==c||\"q\"==c&&!a.elements.q.value?!0:!1}else a=!1;a&&(b.preventDefault(),b.stopPropagation())},!0);document.documentElement.addEventListener(\"click\",function(b){var a;a:{for(a=b.target;a&&a!=document.documentElement;a=a.parentElement)if(\"A\"==a.tagName){a=\"1\"==a.getAttribute(\"data-nohref\");break a}a=!1}a&&b.preventDefault()},!0);}).call(this);</script><style>#gbar,#guser{font-size:13px;padding-top:1px !important;}#gbar{height:22px}#guser{padding-bottom:7px !important;text-align:right}.gbh,.gbd{border-top:1px solid #c9d7f1;font-size:1px}.gbh{height:0;position:absolute;top:24px;width:100%}@media all{.gb1{height:22px;margin-right:.5em;vertical-align:top}#gbar{float:left}}a.gb1,a.gb4{text-decoration:underline !important}a.gb1,a.gb4{color:#00c !important}.gbi .gb4{color:#dd8e27 !important}.gbf .gb4{color:#900 !important}\n",
              "</style><style>body,td,a,p,.h{font-family:arial,sans-serif}body{margin:0;overflow-y:scroll}#gog{padding:3px 8px 0}td{line-height:.8em}.gac_m td{line-height:17px}form{margin-bottom:20px}.h{color:#1558d6}em{font-weight:bold;font-style:normal}.lst{height:25px;width:496px}.gsfi,.lst{font:18px arial,sans-serif}.gsfs{font:17px arial,sans-serif}.ds{display:inline-box;display:inline-block;margin:3px 0 4px;margin-left:4px}input{font-family:inherit}body{background:#fff;color:#000}a{color:#4b11a8;text-decoration:none}a:hover,a:active{text-decoration:underline}.fl a{color:#1558d6}a:visited{color:#4b11a8}.sblc{padding-top:5px}.sblc a{display:block;margin:2px 0;margin-left:13px;font-size:11px}.lsbb{background:#f8f9fa;border:solid 1px;border-color:#dadce0 #70757a #70757a #dadce0;height:30px}.lsbb{display:block}#WqQANb a{display:inline-block;margin:0 12px}.lsb{background:url(/images/nav_logo229.png) 0 -261px repeat-x;border:none;color:#000;cursor:pointer;height:30px;margin:0;outline:0;font:15px arial,sans-serif;vertical-align:top}.lsb:active{background:#dadce0}.lst:focus{outline:none}.prms{color:#c5221f;font-size:13px}.sshppd{font-size:13px;margin:32px 0 26px}.sshpplo span{color:#c5221f}.sshpplt{margin:15px 0 30px}</style><script nonce=\"4sddFodzgDp3OsgBqH8SxQ==\"></script></head><body bgcolor=\"#fff\"><script nonce=\"4sddFodzgDp3OsgBqH8SxQ==\">(function(){var src='/images/nav_logo229.png';var iesg=false;document.body.onload = function(){window.n && window.n();if (document.images){new Image().src=src;}\n",
              "if (!iesg){document.f&&document.f.q.focus();document.gbqf&&document.gbqf.q.focus();}\n",
              "}\n",
              "})();</script><div id=\"mngb\"><div id=\"gbar\"><nobr><a class=\"gb1\" href=\"https://www.google.com/webhp?tab=iw\">Search</a> <b class=\"gb1\">Images</b> <a class=\"gb1\" href=\"https://maps.google.com/maps?hl=en&amp;tab=il\">Maps</a> <a class=\"gb1\" href=\"https://play.google.com/?hl=en&amp;tab=i8\">Play</a> <a class=\"gb1\" href=\"https://www.youtube.com/?gl=US&amp;tab=i1\">YouTube</a> <a class=\"gb1\" href=\"https://news.google.com/?tab=in\">News</a> <a class=\"gb1\" href=\"https://mail.google.com/mail/?tab=im\">Gmail</a> <a class=\"gb1\" href=\"https://drive.google.com/?tab=io\">Drive</a> <a class=\"gb1\" href=\"https://www.google.com/intl/en/about/products?tab=ih\" style=\"text-decoration:none\"><u>More</u> »</a></nobr></div><div id=\"guser\" width=\"100%\"><nobr><span class=\"gbi\" id=\"gbn\"></span><span class=\"gbf\" id=\"gbf\"></span><span id=\"gbe\"></span><a class=\"gb4\" href=\"http://www.google.com/history/optout?hl=en\">Web History</a> | <a class=\"gb4\" href=\"/preferences?hl=en\">Settings</a> | <a class=\"gb4\" href=\"https://accounts.google.com/ServiceLogin?hl=en&amp;passive=true&amp;continue=https://www.google.com/imghp%3Fhl%3DEN&amp;ec=GAZAAg\" id=\"gb_70\" target=\"_top\">Sign in</a></nobr></div><div class=\"gbh\" style=\"left:0\"></div><div class=\"gbh\" style=\"right:0\"></div></div><center><br clear=\"all\" id=\"lgpd\"/><div id=\"lga\"><div style=\"padding:28px 0 3px\"><div align=\"left\" id=\"hplogo\" style=\"height:110px;width:276px;background:url(/intl/en_ALL/images/branding/googlelogo/1x/googlelogo_white_background_color_272x92dp.png) no-repeat\" title=\"Google Images\"><div nowrap=\"\" style=\"font-size:16px;font-weight:bold;position:relative;top:70px;color:#1a73e8;right:115px;float:right\"><span>Images</span></div></div></div><br/></div><form action=\"https://www.google.com/search\" name=\"f\"><table cellpadding=\"0\" cellspacing=\"0\"><tr valign=\"top\"><td width=\"25%\"> </td><td align=\"center\" nowrap=\"\"><input name=\"tbm\" type=\"hidden\" value=\"isch\"/><input name=\"ie\" type=\"hidden\" value=\"ISO-8859-1\"/><input name=\"hl\" type=\"hidden\" value=\"en\"/><input name=\"source\" type=\"hidden\" value=\"hp\"/><input name=\"biw\" type=\"hidden\"/><input name=\"bih\" type=\"hidden\"/><div class=\"ds\" style=\"height:32px;margin:4px 0\"><input autocomplete=\"off\" class=\"lst\" maxlength=\"2048\" name=\"q\" size=\"57\" style=\"margin:0;padding:5px 8px 0 6px;vertical-align:top;color:#000\" title=\"Search Images\" value=\"\"/></div> <span class=\"ds\"><span class=\"lsbb\"><input class=\"lsb\" name=\"btnG\" type=\"submit\" value=\"Search Images\"/></span></span></td><td align=\"left\" class=\"fl sblc\" nowrap=\"\" valign=\"middle\" width=\"25%\"><a href=\"/advanced_image_search?hl=en&amp;authuser=0\">Advanced Image Search</a></td></tr></table><input id=\"gbv\" name=\"gbv\" type=\"hidden\" value=\"1\"/><script nonce=\"4sddFodzgDp3OsgBqH8SxQ==\">(function(){\n",
              "var a,b=\"1\";if(document&&document.getElementById)if(\"undefined\"!=typeof XMLHttpRequest)b=\"2\";else if(\"undefined\"!=typeof ActiveXObject){var c,d,e=[\"MSXML2.XMLHTTP.6.0\",\"MSXML2.XMLHTTP.3.0\",\"MSXML2.XMLHTTP\",\"Microsoft.XMLHTTP\"];for(c=0;d=e[c++];)try{new ActiveXObject(d),b=\"2\"}catch(h){}}a=b;if(\"2\"==a&&-1==location.search.indexOf(\"&gbv=2\")){var f=google.gbvu,g=document.getElementById(\"gbv\");g&&(g.value=a);f&&window.setTimeout(function(){location.href=f},0)};}).call(this);</script></form><div id=\"gac_scont\"></div><div style=\"font-size:83%;min-height:3.5em\"><br/></div><span id=\"footer\"><div style=\"font-size:10pt\"><div id=\"WqQANb\" style=\"margin:19px auto;text-align:center\"><a href=\"/intl/en/ads/\">Advertising Programs</a><a href=\"/services/\">Business Solutions</a><a href=\"/intl/en/about.html\">About Google</a></div></div><p style=\"font-size:8pt;color:#70757a\">© 2021 - <a href=\"/intl/en/policies/privacy/\">Privacy</a> - <a href=\"/intl/en/policies/terms/\">Terms</a></p></span></center><script nonce=\"4sddFodzgDp3OsgBqH8SxQ==\">(function(){window.google.cdo={height:757,width:1440};(function(){\n",
              "var a=window.innerWidth,b=window.innerHeight;if(!a||!b){var c=window.document,d=\"CSS1Compat\"==c.compatMode?c.documentElement:c.body;a=d.clientWidth;b=d.clientHeight}a&&b&&(a!=google.cdo.width||b!=google.cdo.height)&&google.log(\"\",\"\",\"/client_204?&atyp=i&biw=\"+a+\"&bih=\"+b+\"&ei=\"+google.kEI);}).call(this);})();</script> <script nonce=\"4sddFodzgDp3OsgBqH8SxQ==\">(function(){google.xjs={ck:'',cs:'',excm:[]};})();</script> <script nonce=\"4sddFodzgDp3OsgBqH8SxQ==\">(function(){var u='/xjs/_/js/k\\x3dxjs.hp.en_US.wi7yDYWQg1M.O/am\\x3dAPgEmA/d\\x3d1/ed\\x3d1/rs\\x3dACT90oH21Q-M-Ct4Zq8pvyS_2s9BHedkZg/m\\x3dsb_he,d';\n",
              "var e=this||self,f=function(a){return a};var g;var l=function(a,b){this.g=b===h?a:\"\"};l.prototype.toString=function(){return this.g+\"\"};var h={};function m(){var a=u;google.lx=function(){n(a);google.lx=function(){}};google.bx||google.lx()}\n",
              "function n(a){google.timers&&google.timers.load&&google.tick&&google.tick(\"load\",\"xjsls\");var b=document;var c=\"SCRIPT\";\"application/xhtml+xml\"===b.contentType&&(c=c.toLowerCase());c=b.createElement(c);if(void 0===g){b=null;var k=e.trustedTypes;if(k&&k.createPolicy){try{b=k.createPolicy(\"goog#html\",{createHTML:f,createScript:f,createScriptURL:f})}catch(p){e.console&&e.console.error(p.message)}g=b}else g=b}a=(b=g)?b.createScriptURL(a):a;a=new l(a,h);c.src=a instanceof l&&a.constructor===l?a.g:\"type_error:TrustedResourceUrl\";var d;a=(c.ownerDocument&&c.ownerDocument.defaultView||window).document;(d=(a=null===(d=a.querySelector)||void 0===d?void 0:d.call(a,\"script[nonce]\"))?a.nonce||a.getAttribute(\"nonce\")||\"\":\"\")&&c.setAttribute(\"nonce\",d);document.body.appendChild(c);google.psa=!0};setTimeout(function(){m()},0);})();(function(){window.google.xjsu='/xjs/_/js/k\\x3dxjs.hp.en_US.wi7yDYWQg1M.O/am\\x3dAPgEmA/d\\x3d1/ed\\x3d1/rs\\x3dACT90oH21Q-M-Ct4Zq8pvyS_2s9BHedkZg/m\\x3dsb_he,d';})();function _DumpException(e){throw e;}\n",
              "function _F_installCss(c){}\n",
              "(function(){google.jl={attn:false,blt:'none',chnk:0,dw:false,emtn:0,end:0,ine:false,lls:'default',pdt:0,rep:0,sif:true,snet:true,strt:0,ubm:false,uwp:true};})();(function(){var pmc='{\\x22d\\x22:{},\\x22sb_he\\x22:{\\x22agen\\x22:true,\\x22cgen\\x22:true,\\x22client\\x22:\\x22img\\x22,\\x22dh\\x22:true,\\x22dhqt\\x22:true,\\x22ds\\x22:\\x22i\\x22,\\x22ffql\\x22:\\x22en\\x22,\\x22host\\x22:\\x22google.com\\x22,\\x22isbh\\x22:28,\\x22jsonp\\x22:true,\\x22msgs\\x22:{\\x22cibl\\x22:\\x22Clear Search\\x22,\\x22dym\\x22:\\x22Did you mean:\\x22,\\x22lcky\\x22:\\x22I\\\\u0026#39;m Feeling Lucky\\x22,\\x22lml\\x22:\\x22Learn more\\x22,\\x22oskt\\x22:\\x22Input tools\\x22,\\x22psrc\\x22:\\x22This search was removed from your \\\\u003Ca href\\x3d\\\\\\x22/history\\\\\\x22\\\\u003EWeb History\\\\u003C/a\\\\u003E\\x22,\\x22psrl\\x22:\\x22Remove\\x22,\\x22sbit\\x22:\\x22Search by image\\x22,\\x22srch\\x22:\\x22Google Search\\x22},\\x22ovr\\x22:{},\\x22pq\\x22:\\x22\\x22,\\x22sbas\\x22:\\x220 3px 8px 0 rgba(0,0,0,0.2),0 0 0 1px rgba(0,0,0,0.08)\\x22,\\x22sbpl\\x22:16,\\x22sbpr\\x22:16,\\x22scd\\x22:10,\\x22stok\\x22:\\x22AcV_e9B_uiXP1OlEwwO9sG6t6gc\\x22,\\x22uhde\\x22:false}}';google.pmc=JSON.parse(pmc);})();</script> </body></html>"
            ]
          },
          "metadata": {
            "tags": []
          },
          "execution_count": 3
        }
      ]
    },
    {
      "cell_type": "code",
      "metadata": {
        "colab": {
          "base_uri": "https://localhost:8080/"
        },
        "id": "cm3HgKIeKXjn",
        "outputId": "d04f5640-d2c2-4a11-9e7c-ac50d078d558"
      },
      "source": [
        "#target the search input\n",
        "browser.select_form()\n",
        "browser.get_current_form().print_summary()"
      ],
      "execution_count": null,
      "outputs": [
        {
          "output_type": "stream",
          "text": [
            "<input name=\"tbm\" type=\"hidden\" value=\"isch\"/>\n",
            "<input name=\"ie\" type=\"hidden\" value=\"ISO-8859-1\"/>\n",
            "<input name=\"hl\" type=\"hidden\" value=\"en\"/>\n",
            "<input name=\"source\" type=\"hidden\" value=\"hp\"/>\n",
            "<input name=\"biw\" type=\"hidden\"/>\n",
            "<input name=\"bih\" type=\"hidden\"/>\n",
            "<input autocomplete=\"off\" class=\"lst\" maxlength=\"2048\" name=\"q\" size=\"57\" style=\"margin:0;padding:5px 8px 0 6px;vertical-align:top;color:#000\" title=\"Search Images\" value=\"\"/>\n",
            "<input class=\"lsb\" name=\"btnG\" type=\"submit\" value=\"Search Images\"/>\n",
            "<input id=\"gbv\" name=\"gbv\" type=\"hidden\" value=\"1\"/>\n"
          ],
          "name": "stdout"
        }
      ]
    },
    {
      "cell_type": "code",
      "metadata": {
        "id": "t2EjVrhwLJxH"
      },
      "source": [
        "search_term = 'cat'\n",
        "browser[\"q\"] = search_term"
      ],
      "execution_count": null,
      "outputs": []
    },
    {
      "cell_type": "code",
      "metadata": {
        "id": "LvT1-675WS9l"
      },
      "source": [
        "browser.launch_browser()\n",
        "response = browser.submit_selected()"
      ],
      "execution_count": null,
      "outputs": []
    },
    {
      "cell_type": "code",
      "metadata": {
        "colab": {
          "base_uri": "https://localhost:8080/"
        },
        "id": "WJJ4PKHiWh0p",
        "outputId": "dcf74fae-93ea-4aa1-9f19-2c7c59667ef4"
      },
      "source": [
        "print('new url:',browser.get_url())\n",
        "print('my response:\\n',response.text[:500])"
      ],
      "execution_count": null,
      "outputs": [
        {
          "output_type": "stream",
          "text": [
            "new url: https://www.google.com/search?tbm=isch&ie=ISO-8859-1&hl=en&source=hp&biw=&bih=&q=cat&btnG=Search+Images&gbv=1\n",
            "my response:\n",
            " <!DOCTYPE html PUBLIC \"-//WAPFORUM//DTD XHTML Mobile 1.0//EN\" \"http://www.wapforum.org/DTD/xhtml-mobile10.dtd\"><html xmlns=\"http://www.w3.org/1999/xhtml\" lang=\"en\"><head><meta content=\"application/xhtml+xml; charset=UTF-8\" http-equiv=\"Content-Type\"/><meta content=\"no-cache\" name=\"Cache-Control\"/><title>cat - Google Search</title><style>a{text-decoration:none;color:inherit}a:hover{text-decoration:underline}a img{border:0}body{font-family:Roboto,Helvetica,Arial,sans-serif;padding:8px;margin:0 auto\n"
          ],
          "name": "stdout"
        }
      ]
    },
    {
      "cell_type": "code",
      "metadata": {
        "id": "c7vlwUA5W-O8"
      },
      "source": [
        "#open new url\n",
        "new_url = browser.get_url()\n",
        "browser.open(new_url)\n",
        "\n",
        "#get HTML\n",
        "page = browser.get_current_page()\n",
        "all_images = page.find_all('img')\n",
        "\n",
        "#target the source attribute\n",
        "image_source = []\n",
        "for image in all_images:\n",
        "  image = image.get('src')\n",
        "  image_source.append(image)\n"
      ],
      "execution_count": null,
      "outputs": []
    },
    {
      "cell_type": "code",
      "metadata": {
        "colab": {
          "base_uri": "https://localhost:8080/"
        },
        "id": "YA1aMKWwjGlv",
        "outputId": "e0ac3ee2-3052-4d05-e5b2-5433f052dbe5"
      },
      "source": [
        "image_source"
      ],
      "execution_count": null,
      "outputs": [
        {
          "output_type": "execute_result",
          "data": {
            "text/plain": [
              "['/images/branding/searchlogo/1x/googlelogo_desk_heirloom_color_150x55dp.gif',\n",
              " 'https://encrypted-tbn0.gstatic.com/images?q=tbn:ANd9GcQw_qxWaix4YtF-lt38iJpiutFR_l-s2JMngYWr-Jwp_-lyx3D5D5-RbYK9aZY&s',\n",
              " 'https://encrypted-tbn0.gstatic.com/images?q=tbn:ANd9GcR1M6cnFrSeLZ4Mhu6G7M4_1hxuM1Svg-QJ2dnBYv5kM1Kg5GDzx91AZccX-Q&s',\n",
              " 'https://encrypted-tbn0.gstatic.com/images?q=tbn:ANd9GcSKuf2f2woppTThJsDDtmaHauOyqfRvqK467Sr1AQtbzEuNg7NFmnOGignVvz8&s',\n",
              " 'https://encrypted-tbn0.gstatic.com/images?q=tbn:ANd9GcQA27OQhF5UJ_STOL6HljZ0WRxGtRks-n6E_Mq9emazF-onpOve6bN-hUfftg&s',\n",
              " 'https://encrypted-tbn0.gstatic.com/images?q=tbn:ANd9GcQRt7KfUh3szkIhPZ3eCFVbSVBjQIY3Pwc_NPnz32RRbFBsuAqv1mRr1s7amw&s',\n",
              " 'https://encrypted-tbn0.gstatic.com/images?q=tbn:ANd9GcTnRDIe0XaHJ9z6aN1VVt00ZGdyphJp0_Eya-DaB3LIQjidpMvYIu0lhoyt4g&s',\n",
              " 'https://encrypted-tbn0.gstatic.com/images?q=tbn:ANd9GcTltwTAzU1H-waZRij3leZBUvFXRYQ0zg_DimECHy15wSmOgYELp5M-9GOi5h4&s',\n",
              " 'https://encrypted-tbn0.gstatic.com/images?q=tbn:ANd9GcRwnqk6SmoKlLvJGkNDVtZkjOu4PHcdvWzHHdbhtfko_jbZ8OVrInn7dLA39g&s',\n",
              " 'https://encrypted-tbn0.gstatic.com/images?q=tbn:ANd9GcSLB8lwPF4UIM4Ck4ZdvI3qwYCX9InrEGdmqbcaQOac4CdOr4QZMDHWWFKjwNA&s',\n",
              " 'https://encrypted-tbn0.gstatic.com/images?q=tbn:ANd9GcSpL8GjQsI8BG1F3DZUi-CMMb6I03qE_6SjXhjEDpoXyT1pYxoXbWMl4JI_tw&s',\n",
              " 'https://encrypted-tbn0.gstatic.com/images?q=tbn:ANd9GcSD6_1bXZ0Yz4QbbYIc5Jdq0xM0MHYccJTRWpKlE0k51kKKzv5nWiT5f3ydGA&s',\n",
              " 'https://encrypted-tbn0.gstatic.com/images?q=tbn:ANd9GcStUAeUyQawR-eUYyLI4HlC3TKxy2DiOjv8432bFaX_rfcoKqyBEqXG1RQ-uG8&s',\n",
              " 'https://encrypted-tbn0.gstatic.com/images?q=tbn:ANd9GcRlq2UPnOo_vXS-pw2T8sRLlWlAZyDQbeE5gkD9H2rGIBjqVRPW5AGBDozZhuc&s',\n",
              " 'https://encrypted-tbn0.gstatic.com/images?q=tbn:ANd9GcQzGGWhKAR-1qU3l8LErksnOYiAz18nLy5HWncE95r96Zc8MFN6ydtBcPS8w2U&s',\n",
              " 'https://encrypted-tbn0.gstatic.com/images?q=tbn:ANd9GcQII7WcYCRBKoL0d1gtzBE44sRCiJwx7eQo5u3lZUQkLvxx_kv0Pf0xjXdFNA&s',\n",
              " 'https://encrypted-tbn0.gstatic.com/images?q=tbn:ANd9GcRuFBCTWIn1GSHrCb1ZldBXxnMJaxRdo_QEQrHFw8LsR2GeK8laAtaKS62SdQ&s',\n",
              " 'https://encrypted-tbn0.gstatic.com/images?q=tbn:ANd9GcROg7Ziwvx-gbqLjBA_mkimYSTnFJhoMntxE3C9S4vyQPe9L9vrey6qwlvLAw&s',\n",
              " 'https://encrypted-tbn0.gstatic.com/images?q=tbn:ANd9GcTH_msraHNfMaRHofhqj4MboqyTB7SlAuyyGxGyvAG1IA_vuzbr6ncYFEHni9Q&s',\n",
              " 'https://encrypted-tbn0.gstatic.com/images?q=tbn:ANd9GcQeVCo1CszU69Jw1x45ehrFwrfrVih_Z1gr9dLDY15eSyWDlXVXTDvKMN5jlA&s',\n",
              " 'https://encrypted-tbn0.gstatic.com/images?q=tbn:ANd9GcS8ctds75QB_30sygQfpu4ZynNnR8TMzs6AKLqjaLZZDvUFsMTT6K8dfEEo7as&s']"
            ]
          },
          "metadata": {
            "tags": []
          },
          "execution_count": 14
        }
      ]
    },
    {
      "cell_type": "code",
      "metadata": {
        "id": "2aDe0yqKphQv"
      },
      "source": [
        "import os \n",
        "import wget\n",
        "\n",
        "path = os.getcwd()\n",
        "path = os.path.join(path,search_term + \"s\")\n",
        "\n",
        "#create the directory\n",
        "os.mkdir(path)\n",
        "\n",
        "path"
      ],
      "execution_count": null,
      "outputs": []
    },
    {
      "cell_type": "code",
      "metadata": {
        "id": "nSkvySJpp3Kd"
      },
      "source": [
        "# download images\n",
        "counter = 0\n",
        "for image in image_source:\n",
        "  save_as = os.path.join(path,search_term + str(counter) + 'jpg')\n",
        "  wget.download(image,save_as)\n",
        "  counter += 1 "
      ],
      "execution_count": null,
      "outputs": []
    }
  ]
}